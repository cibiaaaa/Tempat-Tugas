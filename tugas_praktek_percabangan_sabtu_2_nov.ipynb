{
  "nbformat": 4,
  "nbformat_minor": 0,
  "metadata": {
    "colab": {
      "provenance": [],
      "authorship_tag": "ABX9TyOGZSq6gKbazt05511TFOWG",
      "include_colab_link": true
    },
    "kernelspec": {
      "name": "python3",
      "display_name": "Python 3"
    },
    "language_info": {
      "name": "python"
    }
  },
  "cells": [
    {
      "cell_type": "markdown",
      "metadata": {
        "id": "view-in-github",
        "colab_type": "text"
      },
      "source": [
        "<a href=\"https://colab.research.google.com/github/cibiaaaa/Tempat-Tugas/blob/main/tugas_praktek_percabangan_sabtu_2_nov.ipynb\" target=\"_parent\"><img src=\"https://colab.research.google.com/assets/colab-badge.svg\" alt=\"Open In Colab\"/></a>"
      ]
    },
    {
      "cell_type": "markdown",
      "source": [
        "# soal 1\n",
        "diket:\n",
        "Pembelian di bawah Rp100.000 tidak mendapat diskon.\n",
        "Pembelian antara Rp100.000 - Rp500.000 mendapat diskon 10%.\n",
        "Pembelian di atas Rp500.000 mendapat diskon 20%.\n"
      ],
      "metadata": {
        "id": "FFrSq2Qriybk"
      }
    },
    {
      "cell_type": "code",
      "source": [
        "#jawaban 1\n",
        "\n",
        "diskon = int (input(\"masukan pembelian \"))\n",
        "if diskon <= 100.00:\n",
        "  print (\"tidak mendapat diskon\") #true\n",
        "elif diskon <= 500.000:\n",
        "  print (\"mendapatkan diskon 10%\") #true&false\n",
        "elif diskon >= 500.000:\n",
        "  print (\"mendapatkan diskon 20%\") #false"
      ],
      "metadata": {
        "colab": {
          "base_uri": "https://localhost:8080/"
        },
        "id": "XP1_VK9qi337",
        "outputId": "394991d9-f013-40f4-a252-e4f005d93ad1"
      },
      "execution_count": 5,
      "outputs": [
        {
          "output_type": "stream",
          "name": "stdout",
          "text": [
            "masukan pembelian 800\n",
            "mendapatkan diskon 20%\n"
          ]
        }
      ]
    },
    {
      "cell_type": "markdown",
      "source": [
        "# soal 2\n",
        "diket:\n",
        "Umur 0-12 tahun: Anak-anak\n",
        "Umur 13-17 tahun: Remaja\n",
        "Umur 18-64 tahun: Dewasa\n",
        "Umur 65 tahun ke atas: Lansia\n"
      ],
      "metadata": {
        "id": "c_pZM3tylyF6"
      }
    },
    {
      "cell_type": "code",
      "source": [
        "#jawaban 2\n",
        "\n",
        "umur = int (input(\"umur anda \"))\n",
        "if umur <= 12:\n",
        "  print (\"anak anak\") #true\n",
        "elif umur <= 17:\n",
        "  print (\"remaja\") #true&false\n",
        "elif umur <= 64:\n",
        "  print (\"dewasa\") #true&false\n",
        "else :\n",
        "  print (\"lansia\") #false\n"
      ],
      "metadata": {
        "colab": {
          "base_uri": "https://localhost:8080/"
        },
        "id": "rbL3DT9dmD9s",
        "outputId": "46f59cfc-ffd6-4be5-c4f0-15a875344f90"
      },
      "execution_count": 6,
      "outputs": [
        {
          "output_type": "stream",
          "name": "stdout",
          "text": [
            "umur anda 19\n",
            "dewasa\n"
          ]
        }
      ]
    },
    {
      "cell_type": "markdown",
      "source": [
        "# soal 3\n",
        "diket:\n",
        "Nilai 90-100: Sangat Baik\n",
        "Nilai 70-89: Baik\n",
        "Nilai 50-69: Cukup\n",
        "Nilai di bawah 50: Kurang"
      ],
      "metadata": {
        "id": "hhngKQ9ioe94"
      }
    },
    {
      "cell_type": "code",
      "source": [
        "#jawaban 3\n",
        "\n",
        "nilai = int (input(\"nilai anda \"))\n",
        "if nilai >= 90:\n",
        "  print (\"sangat baik\") #true\n",
        "elif nilai >= 70:\n",
        "  print (\"baik\") #true&false\n",
        "elif nilai >= 50:\n",
        "  print (\"cukup\") #true&false\n",
        "else :\n",
        "  print (\"kurang\") #false"
      ],
      "metadata": {
        "colab": {
          "base_uri": "https://localhost:8080/"
        },
        "id": "rCrFJj6Yowup",
        "outputId": "6efd4ead-6943-4726-8e45-2cbcae24a4bc"
      },
      "execution_count": 7,
      "outputs": [
        {
          "output_type": "stream",
          "name": "stdout",
          "text": [
            "nilai anda 95\n",
            "sangat baik\n"
          ]
        }
      ]
    },
    {
      "cell_type": "markdown",
      "source": [
        "# soal 4\n",
        "diket:\n",
        "Tahun habis dibagi 4 adalah kabisat, kecuali tahun yang habis dibagi 100 tetapi tidak habis dibagi 400."
      ],
      "metadata": {
        "id": "c39_2Y8PpwEh"
      }
    },
    {
      "cell_type": "code",
      "source": [
        "#jawaban 4\n",
        "\n",
        "tahun = int (input(\"masukan tahun \"))\n",
        "if tahun % 4 == 0:\n",
        "  if tahun % 100 == 0:\n",
        "    if tahun % 400 == 0:\n",
        "      print (\"tahun kabisat\")\n",
        "    else :\n",
        "        print (\"bukan tahun kabisat\")\n",
        "  else :\n",
        "    print (\"tahun kabisat\")\n"
      ],
      "metadata": {
        "colab": {
          "base_uri": "https://localhost:8080/"
        },
        "id": "e-ClRcN3s0uK",
        "outputId": "ab80eada-2748-4018-ad53-41d6d19658c1"
      },
      "execution_count": 16,
      "outputs": [
        {
          "output_type": "stream",
          "name": "stdout",
          "text": [
            "masukan tahun 400\n",
            "tahun kabisat\n"
          ]
        }
      ]
    },
    {
      "cell_type": "markdown",
      "source": [
        "# soal 5\n",
        "Buat kalkulator sederhana yang dapat melakukan operasi tambah, kurang, kali, dan bagi. Program akan meminta pengguna memasukkan dua angka dan memilih operasi.\n",
        "\n",
        "Tugas:\n",
        "\n",
        "Buat program yang meminta input dua angka dan jenis operasi (+, -, *, /).\n",
        "Gunakan percabangan untuk menentukan operasi yang dipilih dan lakukan perhitungan.\n",
        "Tampilkan hasilnya."
      ],
      "metadata": {
        "id": "-PxggBUeul4w"
      }
    },
    {
      "cell_type": "code",
      "source": [
        "#jawaban 5\n",
        "\n",
        "a = int(input(\"masukan nilai pertama: \"))\n",
        "b = int(input(\"masukan nilai kedua: \"))\n",
        "c = input(\"masukan operasi yang ingin dilakukan: \")\n",
        "if c == \"+\":\n",
        "  print(a+b)\n",
        "elif c == \"-\":\n",
        "  print(a-b)\n",
        "elif c == \"*\":\n",
        "  print(a*b)\n",
        "elif c == \"/\":\n",
        "  print(a/b)\n",
        "else :\n",
        "  print(\"operasi tidak valid\")\n",
        "\n",
        "\n"
      ],
      "metadata": {
        "colab": {
          "base_uri": "https://localhost:8080/"
        },
        "id": "dGogcHXZviP6",
        "outputId": "129559f1-38ef-4cb8-e8b3-d89841799605"
      },
      "execution_count": 1,
      "outputs": [
        {
          "output_type": "stream",
          "name": "stdout",
          "text": [
            "masukan nilai pertama: 30\n",
            "masukan nilai kedua: 80\n",
            "masukan operasi yang ingin dilakukan: *\n",
            "2400\n"
          ]
        }
      ]
    }
  ]
}