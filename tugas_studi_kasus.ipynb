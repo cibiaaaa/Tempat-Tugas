{
  "nbformat": 4,
  "nbformat_minor": 0,
  "metadata": {
    "colab": {
      "provenance": [],
      "authorship_tag": "ABX9TyOh4FUYupBjr5oTbC5wVJVd",
      "include_colab_link": true
    },
    "kernelspec": {
      "name": "python3",
      "display_name": "Python 3"
    },
    "language_info": {
      "name": "python"
    }
  },
  "cells": [
    {
      "cell_type": "markdown",
      "metadata": {
        "id": "view-in-github",
        "colab_type": "text"
      },
      "source": [
        "<a href=\"https://colab.research.google.com/github/cibiaaaa/Tempat-Tugas/blob/main/tugas_studi_kasus.ipynb\" target=\"_parent\"><img src=\"https://colab.research.google.com/assets/colab-badge.svg\" alt=\"Open In Colab\"/></a>"
      ]
    },
    {
      "cell_type": "code",
      "source": [
        "#studi kasus pembagian photo card untuk dua orang teman di acara fan meeting kpop\n",
        "\n",
        "a = 200\n",
        "b = 100\n",
        "c = input (\"masukan nama teman pertama :\")\n",
        "d = input (\"masukan nama teman kedua :\")\n",
        "e = int(a)\n",
        "f = int(b)\n",
        "print (c, \"mendapatkan photo card sebanyak\", e, \"pcs, dan si\", d,\"mendapatkan photo card sebanyak\", f, \"pcs\")\n"
      ],
      "metadata": {
        "colab": {
          "base_uri": "https://localhost:8080/"
        },
        "id": "ON6nX72ig6gv",
        "outputId": "c30ad130-0b8d-4970-bced-724932d7968d"
      },
      "execution_count": null,
      "outputs": [
        {
          "output_type": "stream",
          "name": "stdout",
          "text": [
            "masukan nama teman pertama :bluga\n",
            "masukan nama teman kedua :dorry\n",
            "bluga mendapatkan photo card sebanyak 200 pcs, dan si dorry mendapatkan photo card sebanyak 100 pcs\n"
          ]
        }
      ]
    }
  ]
}