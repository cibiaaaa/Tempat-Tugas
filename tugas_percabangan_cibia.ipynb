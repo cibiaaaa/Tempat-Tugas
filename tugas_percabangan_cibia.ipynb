{
  "nbformat": 4,
  "nbformat_minor": 0,
  "metadata": {
    "colab": {
      "provenance": [],
      "authorship_tag": "ABX9TyN+oohtYXzU16hfRuN/GICz",
      "include_colab_link": true
    },
    "kernelspec": {
      "name": "python3",
      "display_name": "Python 3"
    },
    "language_info": {
      "name": "python"
    }
  },
  "cells": [
    {
      "cell_type": "markdown",
      "metadata": {
        "id": "view-in-github",
        "colab_type": "text"
      },
      "source": [
        "<a href=\"https://colab.research.google.com/github/cibiaaaa/Tempat-Tugas/blob/main/tugas_percabangan_cibia.ipynb\" target=\"_parent\"><img src=\"https://colab.research.google.com/assets/colab-badge.svg\" alt=\"Open In Colab\"/></a>"
      ]
    },
    {
      "cell_type": "markdown",
      "source": [
        "# PERCABANGAN\n",
        "percabangan adalah suatu cara yang digunakan dalam perograman untuk mengambil keputusan ke satu kemungkinan “True” atau “False” dari beberapa kondisi.\n",
        "\n",
        "\n",
        "# IF\n",
        "salah satu pernyataan penyeleksian yang memungkinkan kita memanipulasi aliran jalannya program berdasarkan conditional expression.\n",
        "\n",
        "# ELIF\n",
        "singkatan dari “else if” dan digunakan untuk mengevaluasi beberapa kondisi berurutan.\n",
        "\n",
        "# ELSE\n",
        "pilihan terakhir yang akan dijalankan jika semua pilihan tidak memiliki nilai benar (true) pada kondisi yang ada\n"
      ],
      "metadata": {
        "id": "n5kJ_t_W5edo"
      }
    },
    {
      "cell_type": "code",
      "source": [
        "#contoh percabangan 1 kondisi\n",
        "\n",
        "umur = int (input(\"umur anda \"))\n",
        "if umur < 18:\n",
        "  print (\"kamu belum boleh membuat SIM\")"
      ],
      "metadata": {
        "colab": {
          "base_uri": "https://localhost:8080/"
        },
        "id": "Zjdor1ec6r8f",
        "outputId": "c5a6640d-e19b-4c3f-952a-1e1584476cc5"
      },
      "execution_count": 13,
      "outputs": [
        {
          "output_type": "stream",
          "name": "stdout",
          "text": [
            "umur anda 14\n",
            "kamu belum boleh membuat SIM\n"
          ]
        }
      ]
    },
    {
      "cell_type": "code",
      "source": [
        "#contoh percabangan 2 kondisi\n",
        "\n",
        "umur = int (input(\"umur anda \"))\n",
        "if umur < 18:\n",
        "  print (\"kamu belum boleh membuat SIM\") #true\n",
        "else :\n",
        "    print (\"kamu boleh membuat SIM\") #false\n"
      ],
      "metadata": {
        "colab": {
          "base_uri": "https://localhost:8080/"
        },
        "id": "r1p0f2P-9AqF",
        "outputId": "89741083-537f-421a-f96f-2ce15eda6290"
      },
      "execution_count": 12,
      "outputs": [
        {
          "output_type": "stream",
          "name": "stdout",
          "text": [
            "umur anda 20\n",
            "kamu boleh membuat SIM\n"
          ]
        }
      ]
    },
    {
      "cell_type": "code",
      "source": [
        "#contoh percabangan 3 kondisi\n",
        "\n",
        "nilai = int (input(\"nilai anda \"))\n",
        "if nilai >= 90:\n",
        "  print (\"kamu mendapatkan nilai A\") #true\n",
        "elif nilai >= 75:\n",
        "  print (\"kamu mendapatkan nilai B\") #true&false\n",
        "elif nilai >= 60:\n",
        "  print (\"kamu mendapatkan nilai C\") #false"
      ],
      "metadata": {
        "colab": {
          "base_uri": "https://localhost:8080/"
        },
        "id": "IS-JHiHT-3Vp",
        "outputId": "db9c6ef3-d204-4dac-8044-e8985d5944b1"
      },
      "execution_count": 11,
      "outputs": [
        {
          "output_type": "stream",
          "name": "stdout",
          "text": [
            "nilai anda 80\n",
            "kamu mendapatkan nilai B\n"
          ]
        }
      ]
    },
    {
      "cell_type": "code",
      "source": [
        "#contoh percabangan 4 kondisi\n",
        "\n",
        "umur = int (input(\"umur anda \"))\n",
        "if umur <= 10:\n",
        "  print (\"anda masih anak anak\") #true\n",
        "elif umur >= 15:\n",
        "  print (\"anda masih remaja\") #true&false\n",
        "elif umur >= 20:\n",
        "  print (\"anda sudah dewasa\") #true&false\n",
        "else :\n",
        "  print (\"anda sudah tua\") #false"
      ],
      "metadata": {
        "colab": {
          "base_uri": "https://localhost:8080/"
        },
        "id": "oYNvbDVtAwzs",
        "outputId": "1c9da07c-341d-4eeb-c6e9-7ea6996c61d7"
      },
      "execution_count": 10,
      "outputs": [
        {
          "output_type": "stream",
          "name": "stdout",
          "text": [
            "umur anda 8\n",
            "anda masih anak anak\n"
          ]
        }
      ]
    },
    {
      "cell_type": "code",
      "source": [
        "#contoh percabangan 5 kondisi\n",
        "\n",
        "suhu = int (input(\"suhu saat ini \"))\n",
        "if suhu >= 35:\n",
        "  print (\"suhu panas sekali\") #true\n",
        "elif 28 <= suhu < 35:\n",
        "  print (\"suhu hangat\") #true&false\n",
        "elif 20 <= suhu < 28:\n",
        "  print (\"suhu sejuk\") #true&false\n",
        "elif 10 <= suhu < 20:\n",
        "  print (\"suhu cukup dingin\") #true&false\n",
        "else :\n",
        "  print (\"suhu tidak terdeteksi\") #false"
      ],
      "metadata": {
        "colab": {
          "base_uri": "https://localhost:8080/"
        },
        "id": "fqYZcxCZClZv",
        "outputId": "26caf79a-3720-478a-8845-0de2881543b4"
      },
      "execution_count": 9,
      "outputs": [
        {
          "output_type": "stream",
          "name": "stdout",
          "text": [
            "suhu saat ini 18\n",
            "suhu cukup dingin\n"
          ]
        }
      ]
    },
    {
      "cell_type": "code",
      "source": [
        "#contoh percabangan 6 kondisi\n",
        "\n",
        "menu = int (input(\"anda memesan \"))\n",
        "if menu == 1:\n",
        "  print (\"splitza classic\") #true\n",
        "elif menu == 2:\n",
        "  print (\"beef lasagna\") #true&false\n",
        "elif menu == 3:\n",
        "  print (\"roasted chicken\") #true&false\n",
        "elif menu == 4:\n",
        "  print (\"cheesy dough ball\") #true&false\n",
        "elif menu == 5:\n",
        "  print (\"cheesy melt potato\") #true&false\n",
        "else :\n",
        "  print (\"anda tidak memesan\") #false"
      ],
      "metadata": {
        "colab": {
          "base_uri": "https://localhost:8080/"
        },
        "id": "85Fqxl-tFq33",
        "outputId": "8795af93-3ee1-448a-edfb-b0e8a07ebe97"
      },
      "execution_count": 8,
      "outputs": [
        {
          "output_type": "stream",
          "name": "stdout",
          "text": [
            "anda memesan 5\n",
            "cheesy melt potato\n"
          ]
        }
      ]
    },
    {
      "cell_type": "code",
      "source": [
        "#contoh percabangan 7 kondisi\n",
        "\n",
        "warna = int (input(\"anda memilih warna \"))\n",
        "if warna == 19:\n",
        "  print (\"pink\") #true\n",
        "elif warna == 9:\n",
        "  print (\"merah\") #true&false\n",
        "elif warna == 22:\n",
        "  print (\"coklat\") #true&false\n",
        "elif warna == 28:\n",
        "  print (\"navy\") #true&false\n",
        "elif warna == 20:\n",
        "  print (\"orange\") #true&false\n",
        "elif warna == 24:\n",
        "  print (\"putih\") #true&false\n",
        "else :\n",
        "  print (\"anda tidak memilih wara\")"
      ],
      "metadata": {
        "colab": {
          "base_uri": "https://localhost:8080/"
        },
        "id": "ojj4Q7EmMRE7",
        "outputId": "810212b6-7aeb-4280-ac12-8fee123f714a"
      },
      "execution_count": 16,
      "outputs": [
        {
          "output_type": "stream",
          "name": "stdout",
          "text": [
            "anda memilih warna 19\n",
            "pink\n"
          ]
        }
      ]
    }
  ]
}