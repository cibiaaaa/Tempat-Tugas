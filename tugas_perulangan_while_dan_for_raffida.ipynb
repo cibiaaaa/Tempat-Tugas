{
  "nbformat": 4,
  "nbformat_minor": 0,
  "metadata": {
    "colab": {
      "provenance": [],
      "authorship_tag": "ABX9TyOgqzzB9x9gNbAnD4s2rNgd",
      "include_colab_link": true
    },
    "kernelspec": {
      "name": "python3",
      "display_name": "Python 3"
    },
    "language_info": {
      "name": "python"
    }
  },
  "cells": [
    {
      "cell_type": "markdown",
      "metadata": {
        "id": "view-in-github",
        "colab_type": "text"
      },
      "source": [
        "<a href=\"https://colab.research.google.com/github/cibiaaaa/Tempat-Tugas/blob/main/tugas_perulangan_while_dan_for_raffida.ipynb\" target=\"_parent\"><img src=\"https://colab.research.google.com/assets/colab-badge.svg\" alt=\"Open In Colab\"/></a>"
      ]
    },
    {
      "cell_type": "markdown",
      "source": [
        "# perulangan\n",
        "Perulangan dalam bahasa pemrograman berfungsi menyuruh komputer melakukan sesuatu secara berulang-ulang. Terdapat dua jenis perulangan dalam bahasa pemrograman python, yaitu perulangan dengan for dan while.\n",
        "\n"
      ],
      "metadata": {
        "id": "jKqZ33rZnMIh"
      }
    },
    {
      "cell_type": "markdown",
      "source": [
        "# while\n",
        "while digunakan untuk mengulang statement sebanyak satu kali terlebih dahulu, kemudian akan mengecek statement didalam while apakah bernilai benar, jika bernilai benar maka akan diulang kembali.\n",
        "\n"
      ],
      "metadata": {
        "id": "XeFl02OJnU3S"
      }
    },
    {
      "cell_type": "markdown",
      "source": [
        "# for\n",
        "perulangan for adalah suatu bentuk proses pengulangan kegiatan pada suatu statement atau lebih secara berulang ulang-ulang selama yang dijadikan acuan tersebut terpenuhi dengan baik."
      ],
      "metadata": {
        "id": "Osvw7vNUnk3R"
      }
    },
    {
      "cell_type": "markdown",
      "source": [
        "# perbedaan while dan for\n",
        "Perbedaan antara perulangan for dan perulangan while adalah for memungkinkan inisialisasi, pengecekan kondisi, dan pernyataan iterasi di bagian atas perulangan, sedangkan while hanya memungkinkan inisialisasi dan pengecekan kondisi di bagian atas perulangan"
      ],
      "metadata": {
        "id": "dVhYjiEunzN3"
      }
    },
    {
      "cell_type": "code",
      "source": [
        "#perulangan while\n",
        "\n",
        "i=1\n",
        "while i <= 10:\n",
        "  print(i)\n",
        "  i+=1"
      ],
      "metadata": {
        "colab": {
          "base_uri": "https://localhost:8080/"
        },
        "id": "jnmptW-poMg3",
        "outputId": "487f15af-8178-4557-c494-11abb96935cc"
      },
      "execution_count": 1,
      "outputs": [
        {
          "output_type": "stream",
          "name": "stdout",
          "text": [
            "1\n",
            "2\n",
            "3\n",
            "4\n",
            "5\n",
            "6\n",
            "7\n",
            "8\n",
            "9\n",
            "10\n"
          ]
        }
      ]
    },
    {
      "cell_type": "code",
      "source": [
        "#perulangan for\n",
        "\n",
        "nama = [\"dorry\", \"bluga\"]\n",
        "for nama in nama:\n",
        "  print(nama)"
      ],
      "metadata": {
        "colab": {
          "base_uri": "https://localhost:8080/"
        },
        "id": "H3PNDY96pC02",
        "outputId": "66a9b3a7-db42-4cc7-dd45-29eb9f7cf764"
      },
      "execution_count": 2,
      "outputs": [
        {
          "output_type": "stream",
          "name": "stdout",
          "text": [
            "dorry\n",
            "bluga\n"
          ]
        }
      ]
    }
  ]
}