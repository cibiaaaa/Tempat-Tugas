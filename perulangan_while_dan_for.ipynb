{
  "nbformat": 4,
  "nbformat_minor": 0,
  "metadata": {
    "colab": {
      "provenance": [],
      "authorship_tag": "ABX9TyNlR+huAGQwC6hRVSSf2Gzp",
      "include_colab_link": true
    },
    "kernelspec": {
      "name": "python3",
      "display_name": "Python 3"
    },
    "language_info": {
      "name": "python"
    }
  },
  "cells": [
    {
      "cell_type": "markdown",
      "metadata": {
        "id": "view-in-github",
        "colab_type": "text"
      },
      "source": [
        "<a href=\"https://colab.research.google.com/github/cibiaaaa/Tempat-Tugas/blob/main/perulangan_while_dan_for.ipynb\" target=\"_parent\"><img src=\"https://colab.research.google.com/assets/colab-badge.svg\" alt=\"Open In Colab\"/></a>"
      ]
    },
    {
      "cell_type": "markdown",
      "source": [
        "# pengulangan\n",
        "Perulangan dalam bahasa pemrograman berfungsi menyuruh komputer melakukan sesuatu secara berulang-ulang. Terdapat dua jenis perulangan dalam bahasa pemrograman python, yaitu perulangan dengan for dan while."
      ],
      "metadata": {
        "id": "fF6xPyy3kFqk"
      }
    },
    {
      "cell_type": "markdown",
      "source": [
        "# for\n",
        "perulangan for adalah suatu bentuk proses pengulangan kegiatan pada suatu statement atau lebih secara berulang ulang-ulang selama yang dijadikan acuan tersebut terpenuhi dengan baik."
      ],
      "metadata": {
        "id": "EUo_duGXkgdF"
      }
    },
    {
      "cell_type": "markdown",
      "source": [
        "# while\n",
        "while digunakan untuk mengulang statement sebanyak satu kali terlebih dahulu, kemudian akan mengecek statement didalam while apakah bernilai benar, jika bernilai benar maka akan diulang kembali."
      ],
      "metadata": {
        "id": "ZonRLPymkumE"
      }
    },
    {
      "cell_type": "markdown",
      "source": [
        "# perbedaan while dan for\n",
        "Perbedaan antara perulangan for dan perulangan while adalah for memungkinkan inisialisasi, pengecekan kondisi, dan pernyataan iterasi di bagian atas perulangan, sedangkan while hanya memungkinkan inisialisasi dan pengecekan kondisi di bagian atas perulangan"
      ],
      "metadata": {
        "id": "0ly4lrVLk5KU"
      }
    },
    {
      "cell_type": "code",
      "source": [
        "#contoh while\n",
        "\n",
        "i=1\n",
        "while i <= 6:\n",
        "  print(i)\n",
        "  i+=1"
      ],
      "metadata": {
        "colab": {
          "base_uri": "https://localhost:8080/"
        },
        "id": "nDyQc0VPlTox",
        "outputId": "90b0d205-7cea-4d2a-de8e-70299cbb9f27"
      },
      "execution_count": 1,
      "outputs": [
        {
          "output_type": "stream",
          "name": "stdout",
          "text": [
            "1\n",
            "2\n",
            "3\n",
            "4\n",
            "5\n",
            "6\n"
          ]
        }
      ]
    },
    {
      "cell_type": "code",
      "source": [
        "#contoh for\n",
        "\n",
        "buah = [\"apel\", \"pisang\", \"mangga\"]\n",
        "for buah in buah:\n",
        "  print(buah)"
      ],
      "metadata": {
        "colab": {
          "base_uri": "https://localhost:8080/"
        },
        "id": "eFndD6Whl2fV",
        "outputId": "e9321162-328a-4b8a-f470-3aacd96de3e2"
      },
      "execution_count": 2,
      "outputs": [
        {
          "output_type": "stream",
          "name": "stdout",
          "text": [
            "apel\n",
            "pisang\n",
            "mangga\n"
          ]
        }
      ]
    }
  ]
}